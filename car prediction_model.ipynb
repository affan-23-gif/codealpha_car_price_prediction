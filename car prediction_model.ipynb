{
 "cells": [
  {
   "cell_type": "markdown",
   "metadata": {},
   "source": [
    "# Car Price Prediction"
   ]
  },
  {
   "cell_type": "markdown",
   "metadata": {},
   "source": [
    "### LIBRARIES"
   ]
  },
  {
   "cell_type": "code",
   "execution_count": 48,
   "metadata": {},
   "outputs": [],
   "source": [
    "from sklearn.metrics import make_scorer, mean_squared_error, mean_absolute_error, r2_score\n",
    "from sklearn.metrics import mean_squared_error, mean_absolute_error, r2_score\n",
    "from sklearn.model_selection import cross_val_score, KFold\n",
    "from sklearn.model_selection import train_test_split\n",
    "from sklearn.preprocessing import PowerTransformer\n",
    "from sklearn.linear_model import LinearRegression, BayesianRidge\n",
    "from sklearn.ensemble import RandomForestRegressor, GradientBoostingRegressor, AdaBoostRegressor\n",
    "import xgboost as xg\n",
    "from sklearn.preprocessing import LabelEncoder,OneHotEncoder\n",
    "from sklearn.utils import shuffle\n",
    "import matplotlib.pyplot as plt\n",
    "import seaborn as sns\n",
    "import pandas as pd\n",
    "import numpy as np\n",
    "import warnings"
   ]
  },
  {
   "cell_type": "code",
   "execution_count": 3,
   "metadata": {},
   "outputs": [],
   "source": [
    "warnings.filterwarnings('ignore')"
   ]
  },
  {
   "cell_type": "code",
   "execution_count": 4,
   "metadata": {},
   "outputs": [],
   "source": [
    "# LOAD DATASET\n",
    "df = pd.read_csv('car data.csv')\n"
   ]
  },
  {
   "cell_type": "code",
   "execution_count": 5,
   "metadata": {},
   "outputs": [
    {
     "data": {
      "text/plain": [
       "(301, 9)"
      ]
     },
     "execution_count": 5,
     "metadata": {},
     "output_type": "execute_result"
    }
   ],
   "source": [
    "df.shape"
   ]
  },
  {
   "cell_type": "code",
   "execution_count": 6,
   "metadata": {},
   "outputs": [
    {
     "data": {
      "text/html": [
       "<div>\n",
       "<style scoped>\n",
       "    .dataframe tbody tr th:only-of-type {\n",
       "        vertical-align: middle;\n",
       "    }\n",
       "\n",
       "    .dataframe tbody tr th {\n",
       "        vertical-align: top;\n",
       "    }\n",
       "\n",
       "    .dataframe thead th {\n",
       "        text-align: right;\n",
       "    }\n",
       "</style>\n",
       "<table border=\"1\" class=\"dataframe\">\n",
       "  <thead>\n",
       "    <tr style=\"text-align: right;\">\n",
       "      <th></th>\n",
       "      <th>Car_Name</th>\n",
       "      <th>Year</th>\n",
       "      <th>Selling_Price</th>\n",
       "      <th>Present_Price</th>\n",
       "      <th>Driven_kms</th>\n",
       "      <th>Fuel_Type</th>\n",
       "      <th>Selling_type</th>\n",
       "      <th>Transmission</th>\n",
       "      <th>Owner</th>\n",
       "    </tr>\n",
       "  </thead>\n",
       "  <tbody>\n",
       "    <tr>\n",
       "      <th>0</th>\n",
       "      <td>ritz</td>\n",
       "      <td>2014</td>\n",
       "      <td>3.35</td>\n",
       "      <td>5.59</td>\n",
       "      <td>27000</td>\n",
       "      <td>Petrol</td>\n",
       "      <td>Dealer</td>\n",
       "      <td>Manual</td>\n",
       "      <td>0</td>\n",
       "    </tr>\n",
       "    <tr>\n",
       "      <th>1</th>\n",
       "      <td>sx4</td>\n",
       "      <td>2013</td>\n",
       "      <td>4.75</td>\n",
       "      <td>9.54</td>\n",
       "      <td>43000</td>\n",
       "      <td>Diesel</td>\n",
       "      <td>Dealer</td>\n",
       "      <td>Manual</td>\n",
       "      <td>0</td>\n",
       "    </tr>\n",
       "    <tr>\n",
       "      <th>2</th>\n",
       "      <td>ciaz</td>\n",
       "      <td>2017</td>\n",
       "      <td>7.25</td>\n",
       "      <td>9.85</td>\n",
       "      <td>6900</td>\n",
       "      <td>Petrol</td>\n",
       "      <td>Dealer</td>\n",
       "      <td>Manual</td>\n",
       "      <td>0</td>\n",
       "    </tr>\n",
       "    <tr>\n",
       "      <th>3</th>\n",
       "      <td>wagon r</td>\n",
       "      <td>2011</td>\n",
       "      <td>2.85</td>\n",
       "      <td>4.15</td>\n",
       "      <td>5200</td>\n",
       "      <td>Petrol</td>\n",
       "      <td>Dealer</td>\n",
       "      <td>Manual</td>\n",
       "      <td>0</td>\n",
       "    </tr>\n",
       "    <tr>\n",
       "      <th>4</th>\n",
       "      <td>swift</td>\n",
       "      <td>2014</td>\n",
       "      <td>4.60</td>\n",
       "      <td>6.87</td>\n",
       "      <td>42450</td>\n",
       "      <td>Diesel</td>\n",
       "      <td>Dealer</td>\n",
       "      <td>Manual</td>\n",
       "      <td>0</td>\n",
       "    </tr>\n",
       "  </tbody>\n",
       "</table>\n",
       "</div>"
      ],
      "text/plain": [
       "  Car_Name  Year  Selling_Price  Present_Price  Driven_kms Fuel_Type  \\\n",
       "0     ritz  2014           3.35           5.59       27000    Petrol   \n",
       "1      sx4  2013           4.75           9.54       43000    Diesel   \n",
       "2     ciaz  2017           7.25           9.85        6900    Petrol   \n",
       "3  wagon r  2011           2.85           4.15        5200    Petrol   \n",
       "4    swift  2014           4.60           6.87       42450    Diesel   \n",
       "\n",
       "  Selling_type Transmission  Owner  \n",
       "0       Dealer       Manual      0  \n",
       "1       Dealer       Manual      0  \n",
       "2       Dealer       Manual      0  \n",
       "3       Dealer       Manual      0  \n",
       "4       Dealer       Manual      0  "
      ]
     },
     "execution_count": 6,
     "metadata": {},
     "output_type": "execute_result"
    }
   ],
   "source": [
    "df.head()"
   ]
  },
  {
   "cell_type": "markdown",
   "metadata": {},
   "source": [
    "## DATA CLEANING"
   ]
  },
  {
   "cell_type": "code",
   "execution_count": 7,
   "metadata": {},
   "outputs": [],
   "source": [
    "df.columns = df.columns.str.lower()"
   ]
  },
  {
   "cell_type": "code",
   "execution_count": 8,
   "metadata": {},
   "outputs": [
    {
     "data": {
      "text/plain": [
       "car_name         0\n",
       "year             0\n",
       "selling_price    0\n",
       "present_price    0\n",
       "driven_kms       0\n",
       "fuel_type        0\n",
       "selling_type     0\n",
       "transmission     0\n",
       "owner            0\n",
       "dtype: int64"
      ]
     },
     "execution_count": 8,
     "metadata": {},
     "output_type": "execute_result"
    }
   ],
   "source": [
    "df.isnull().sum()"
   ]
  },
  {
   "cell_type": "code",
   "execution_count": 25,
   "metadata": {},
   "outputs": [
    {
     "data": {
      "text/html": [
       "<style type=\"text/css\">\n",
       "#T_4218d_row0_col0 {\n",
       "  background-color: #c2383a;\n",
       "  color: #f1f1f1;\n",
       "}\n",
       "#T_4218d_row0_col1, #T_4218d_row0_col2, #T_4218d_row0_col4, #T_4218d_row1_col0, #T_4218d_row4_col0, #T_4218d_row5_col0, #T_4218d_row6_col0, #T_4218d_row7_col0, #T_4218d_row7_col3 {\n",
       "  background-color: #053061;\n",
       "  color: #f1f1f1;\n",
       "}\n",
       "#T_4218d_row0_col3, #T_4218d_row1_col4, #T_4218d_row2_col0, #T_4218d_row2_col4, #T_4218d_row3_col1, #T_4218d_row3_col2, #T_4218d_row3_col3, #T_4218d_row3_col4, #T_4218d_row4_col1, #T_4218d_row4_col2, #T_4218d_row4_col4, #T_4218d_row5_col4, #T_4218d_row6_col4 {\n",
       "  background-color: #67001f;\n",
       "  color: #f1f1f1;\n",
       "}\n",
       "#T_4218d_row1_col1 {\n",
       "  background-color: #700320;\n",
       "  color: #f1f1f1;\n",
       "}\n",
       "#T_4218d_row1_col2 {\n",
       "  background-color: #790622;\n",
       "  color: #f1f1f1;\n",
       "}\n",
       "#T_4218d_row1_col3 {\n",
       "  background-color: #9c1127;\n",
       "  color: #f1f1f1;\n",
       "}\n",
       "#T_4218d_row2_col1, #T_4218d_row5_col2 {\n",
       "  background-color: #730421;\n",
       "  color: #f1f1f1;\n",
       "}\n",
       "#T_4218d_row2_col2, #T_4218d_row4_col3 {\n",
       "  background-color: #7c0722;\n",
       "  color: #f1f1f1;\n",
       "}\n",
       "#T_4218d_row2_col3 {\n",
       "  background-color: #9f1228;\n",
       "  color: #f1f1f1;\n",
       "}\n",
       "#T_4218d_row3_col0 {\n",
       "  background-color: #063264;\n",
       "  color: #f1f1f1;\n",
       "}\n",
       "#T_4218d_row5_col1, #T_4218d_row7_col4 {\n",
       "  background-color: #6d0220;\n",
       "  color: #f1f1f1;\n",
       "}\n",
       "#T_4218d_row5_col3 {\n",
       "  background-color: #960f27;\n",
       "  color: #f1f1f1;\n",
       "}\n",
       "#T_4218d_row6_col1 {\n",
       "  background-color: #760521;\n",
       "  color: #f1f1f1;\n",
       "}\n",
       "#T_4218d_row6_col2 {\n",
       "  background-color: #7f0823;\n",
       "  color: #f1f1f1;\n",
       "}\n",
       "#T_4218d_row6_col3 {\n",
       "  background-color: #ae172a;\n",
       "  color: #f1f1f1;\n",
       "}\n",
       "#T_4218d_row7_col1 {\n",
       "  background-color: #b72230;\n",
       "  color: #f1f1f1;\n",
       "}\n",
       "#T_4218d_row7_col2 {\n",
       "  background-color: #f5aa89;\n",
       "  color: #000000;\n",
       "}\n",
       "</style>\n",
       "<table id=\"T_4218d\">\n",
       "  <thead>\n",
       "    <tr>\n",
       "      <th class=\"blank level0\" >&nbsp;</th>\n",
       "      <th id=\"T_4218d_level0_col0\" class=\"col_heading level0 col0\" >year</th>\n",
       "      <th id=\"T_4218d_level0_col1\" class=\"col_heading level0 col1\" >selling_price</th>\n",
       "      <th id=\"T_4218d_level0_col2\" class=\"col_heading level0 col2\" >present_price</th>\n",
       "      <th id=\"T_4218d_level0_col3\" class=\"col_heading level0 col3\" >driven_kms</th>\n",
       "      <th id=\"T_4218d_level0_col4\" class=\"col_heading level0 col4\" >owner</th>\n",
       "    </tr>\n",
       "  </thead>\n",
       "  <tbody>\n",
       "    <tr>\n",
       "      <th id=\"T_4218d_level0_row0\" class=\"row_heading level0 row0\" >count</th>\n",
       "      <td id=\"T_4218d_row0_col0\" class=\"data row0 col0\" >299.00</td>\n",
       "      <td id=\"T_4218d_row0_col1\" class=\"data row0 col1\" >299.00</td>\n",
       "      <td id=\"T_4218d_row0_col2\" class=\"data row0 col2\" >299.00</td>\n",
       "      <td id=\"T_4218d_row0_col3\" class=\"data row0 col3\" >299.00</td>\n",
       "      <td id=\"T_4218d_row0_col4\" class=\"data row0 col4\" >299.00</td>\n",
       "    </tr>\n",
       "    <tr>\n",
       "      <th id=\"T_4218d_level0_row1\" class=\"row_heading level0 row1\" >mean</th>\n",
       "      <td id=\"T_4218d_row1_col0\" class=\"data row1 col0\" >2013.62</td>\n",
       "      <td id=\"T_4218d_row1_col1\" class=\"data row1 col1\" >4.59</td>\n",
       "      <td id=\"T_4218d_row1_col2\" class=\"data row1 col2\" >7.54</td>\n",
       "      <td id=\"T_4218d_row1_col3\" class=\"data row1 col3\" >36916.75</td>\n",
       "      <td id=\"T_4218d_row1_col4\" class=\"data row1 col4\" >0.04</td>\n",
       "    </tr>\n",
       "    <tr>\n",
       "      <th id=\"T_4218d_level0_row2\" class=\"row_heading level0 row2\" >std</th>\n",
       "      <td id=\"T_4218d_row2_col0\" class=\"data row2 col0\" >2.90</td>\n",
       "      <td id=\"T_4218d_row2_col1\" class=\"data row2 col1\" >4.98</td>\n",
       "      <td id=\"T_4218d_row2_col2\" class=\"data row2 col2\" >8.57</td>\n",
       "      <td id=\"T_4218d_row2_col3\" class=\"data row2 col3\" >39015.17</td>\n",
       "      <td id=\"T_4218d_row2_col4\" class=\"data row2 col4\" >0.25</td>\n",
       "    </tr>\n",
       "    <tr>\n",
       "      <th id=\"T_4218d_level0_row3\" class=\"row_heading level0 row3\" >min</th>\n",
       "      <td id=\"T_4218d_row3_col0\" class=\"data row3 col0\" >2003.00</td>\n",
       "      <td id=\"T_4218d_row3_col1\" class=\"data row3 col1\" >0.10</td>\n",
       "      <td id=\"T_4218d_row3_col2\" class=\"data row3 col2\" >0.32</td>\n",
       "      <td id=\"T_4218d_row3_col3\" class=\"data row3 col3\" >500.00</td>\n",
       "      <td id=\"T_4218d_row3_col4\" class=\"data row3 col4\" >0.00</td>\n",
       "    </tr>\n",
       "    <tr>\n",
       "      <th id=\"T_4218d_level0_row4\" class=\"row_heading level0 row4\" >25%</th>\n",
       "      <td id=\"T_4218d_row4_col0\" class=\"data row4 col0\" >2012.00</td>\n",
       "      <td id=\"T_4218d_row4_col1\" class=\"data row4 col1\" >0.85</td>\n",
       "      <td id=\"T_4218d_row4_col2\" class=\"data row4 col2\" >1.20</td>\n",
       "      <td id=\"T_4218d_row4_col3\" class=\"data row4 col3\" >15000.00</td>\n",
       "      <td id=\"T_4218d_row4_col4\" class=\"data row4 col4\" >0.00</td>\n",
       "    </tr>\n",
       "    <tr>\n",
       "      <th id=\"T_4218d_level0_row5\" class=\"row_heading level0 row5\" >50%</th>\n",
       "      <td id=\"T_4218d_row5_col0\" class=\"data row5 col0\" >2014.00</td>\n",
       "      <td id=\"T_4218d_row5_col1\" class=\"data row5 col1\" >3.51</td>\n",
       "      <td id=\"T_4218d_row5_col2\" class=\"data row5 col2\" >6.10</td>\n",
       "      <td id=\"T_4218d_row5_col3\" class=\"data row5 col3\" >32000.00</td>\n",
       "      <td id=\"T_4218d_row5_col4\" class=\"data row5 col4\" >0.00</td>\n",
       "    </tr>\n",
       "    <tr>\n",
       "      <th id=\"T_4218d_level0_row6\" class=\"row_heading level0 row6\" >75%</th>\n",
       "      <td id=\"T_4218d_row6_col0\" class=\"data row6 col0\" >2016.00</td>\n",
       "      <td id=\"T_4218d_row6_col1\" class=\"data row6 col1\" >6.00</td>\n",
       "      <td id=\"T_4218d_row6_col2\" class=\"data row6 col2\" >9.84</td>\n",
       "      <td id=\"T_4218d_row6_col3\" class=\"data row6 col3\" >48883.50</td>\n",
       "      <td id=\"T_4218d_row6_col4\" class=\"data row6 col4\" >0.00</td>\n",
       "    </tr>\n",
       "    <tr>\n",
       "      <th id=\"T_4218d_level0_row7\" class=\"row_heading level0 row7\" >max</th>\n",
       "      <td id=\"T_4218d_row7_col0\" class=\"data row7 col0\" >2018.00</td>\n",
       "      <td id=\"T_4218d_row7_col1\" class=\"data row7 col1\" >35.00</td>\n",
       "      <td id=\"T_4218d_row7_col2\" class=\"data row7 col2\" >92.60</td>\n",
       "      <td id=\"T_4218d_row7_col3\" class=\"data row7 col3\" >500000.00</td>\n",
       "      <td id=\"T_4218d_row7_col4\" class=\"data row7 col4\" >3.00</td>\n",
       "    </tr>\n",
       "  </tbody>\n",
       "</table>\n"
      ],
      "text/plain": [
       "<pandas.io.formats.style.Styler at 0x22fe6ae71a0>"
      ]
     },
     "execution_count": 25,
     "metadata": {},
     "output_type": "execute_result"
    }
   ],
   "source": [
    "df.describe().style.format(precision=2).background_gradient(cmap='RdBu')"
   ]
  },
  {
   "cell_type": "code",
   "execution_count": 9,
   "metadata": {},
   "outputs": [
    {
     "name": "stdout",
     "output_type": "stream",
     "text": [
      "<class 'pandas.core.frame.DataFrame'>\n",
      "RangeIndex: 301 entries, 0 to 300\n",
      "Data columns (total 9 columns):\n",
      " #   Column         Non-Null Count  Dtype  \n",
      "---  ------         --------------  -----  \n",
      " 0   car_name       301 non-null    object \n",
      " 1   year           301 non-null    int64  \n",
      " 2   selling_price  301 non-null    float64\n",
      " 3   present_price  301 non-null    float64\n",
      " 4   driven_kms     301 non-null    int64  \n",
      " 5   fuel_type      301 non-null    object \n",
      " 6   selling_type   301 non-null    object \n",
      " 7   transmission   301 non-null    object \n",
      " 8   owner          301 non-null    int64  \n",
      "dtypes: float64(2), int64(3), object(4)\n",
      "memory usage: 21.3+ KB\n"
     ]
    }
   ],
   "source": [
    "df.info()"
   ]
  },
  {
   "cell_type": "code",
   "execution_count": 12,
   "metadata": {},
   "outputs": [
    {
     "data": {
      "text/plain": [
       "car_name\n",
       "city                        26\n",
       "corolla altis               16\n",
       "verna                       14\n",
       "fortuner                    11\n",
       "brio                        10\n",
       "                            ..\n",
       "Honda CB Trigger             1\n",
       "Yamaha FZ S                  1\n",
       "Bajaj Pulsar 135 LS          1\n",
       "Activa 4g                    1\n",
       "Bajaj Avenger Street 220     1\n",
       "Name: count, Length: 98, dtype: int64"
      ]
     },
     "execution_count": 12,
     "metadata": {},
     "output_type": "execute_result"
    }
   ],
   "source": [
    "df['car_name'].value_counts()"
   ]
  },
  {
   "cell_type": "code",
   "execution_count": 15,
   "metadata": {},
   "outputs": [],
   "source": [
    "# drop col -> 'Car_Name'\n",
    "df.drop('car_name', axis=1, inplace=True)"
   ]
  },
  {
   "cell_type": "code",
   "execution_count": 16,
   "metadata": {},
   "outputs": [
    {
     "data": {
      "text/plain": [
       "2"
      ]
     },
     "execution_count": 16,
     "metadata": {},
     "output_type": "execute_result"
    }
   ],
   "source": [
    "df.duplicated().sum()"
   ]
  },
  {
   "cell_type": "code",
   "execution_count": 17,
   "metadata": {},
   "outputs": [
    {
     "data": {
      "text/plain": [
       "0"
      ]
     },
     "execution_count": 17,
     "metadata": {},
     "output_type": "execute_result"
    }
   ],
   "source": [
    "df.drop_duplicates(inplace=True)\n",
    "df.duplicated().sum()"
   ]
  },
  {
   "cell_type": "code",
   "execution_count": 22,
   "metadata": {},
   "outputs": [
    {
     "data": {
      "image/png": "[encoded data removed]",
      "text/plain": [
       "<Figure size 1500x1000 with 1 Axes>"
      ]
     },
     "metadata": {},
     "output_type": "display_data"
    }
   ],
   "source": [
    "plt.figure(figsize=(15,10))\n",
    "sns.countplot(y=\"year\",data=df ,palette=\"Set1\")\n",
    "plt.show()"
   ]
  },
  {
   "cell_type": "code",
   "execution_count": 23,
   "metadata": {},
   "outputs": [
    {
     "data": {
      "text/html": [
       "<div>\n",
       "<style scoped>\n",
       "    .dataframe tbody tr th:only-of-type {\n",
       "        vertical-align: middle;\n",
       "    }\n",
       "\n",
       "    .dataframe tbody tr th {\n",
       "        vertical-align: top;\n",
       "    }\n",
       "\n",
       "    .dataframe thead th {\n",
       "        text-align: right;\n",
       "    }\n",
       "</style>\n",
       "<table border=\"1\" class=\"dataframe\">\n",
       "  <thead>\n",
       "    <tr style=\"text-align: right;\">\n",
       "      <th></th>\n",
       "      <th>fuel_type</th>\n",
       "      <th>selling_type</th>\n",
       "      <th>transmission</th>\n",
       "    </tr>\n",
       "  </thead>\n",
       "  <tbody>\n",
       "    <tr>\n",
       "      <th>0</th>\n",
       "      <td>Petrol</td>\n",
       "      <td>Dealer</td>\n",
       "      <td>Manual</td>\n",
       "    </tr>\n",
       "    <tr>\n",
       "      <th>1</th>\n",
       "      <td>Diesel</td>\n",
       "      <td>Dealer</td>\n",
       "      <td>Manual</td>\n",
       "    </tr>\n",
       "    <tr>\n",
       "      <th>2</th>\n",
       "      <td>Petrol</td>\n",
       "      <td>Dealer</td>\n",
       "      <td>Manual</td>\n",
       "    </tr>\n",
       "    <tr>\n",
       "      <th>3</th>\n",
       "      <td>Petrol</td>\n",
       "      <td>Dealer</td>\n",
       "      <td>Manual</td>\n",
       "    </tr>\n",
       "    <tr>\n",
       "      <th>4</th>\n",
       "      <td>Diesel</td>\n",
       "      <td>Dealer</td>\n",
       "      <td>Manual</td>\n",
       "    </tr>\n",
       "    <tr>\n",
       "      <th>...</th>\n",
       "      <td>...</td>\n",
       "      <td>...</td>\n",
       "      <td>...</td>\n",
       "    </tr>\n",
       "    <tr>\n",
       "      <th>296</th>\n",
       "      <td>Diesel</td>\n",
       "      <td>Dealer</td>\n",
       "      <td>Manual</td>\n",
       "    </tr>\n",
       "    <tr>\n",
       "      <th>297</th>\n",
       "      <td>Petrol</td>\n",
       "      <td>Dealer</td>\n",
       "      <td>Manual</td>\n",
       "    </tr>\n",
       "    <tr>\n",
       "      <th>298</th>\n",
       "      <td>Petrol</td>\n",
       "      <td>Dealer</td>\n",
       "      <td>Manual</td>\n",
       "    </tr>\n",
       "    <tr>\n",
       "      <th>299</th>\n",
       "      <td>Diesel</td>\n",
       "      <td>Dealer</td>\n",
       "      <td>Manual</td>\n",
       "    </tr>\n",
       "    <tr>\n",
       "      <th>300</th>\n",
       "      <td>Petrol</td>\n",
       "      <td>Dealer</td>\n",
       "      <td>Manual</td>\n",
       "    </tr>\n",
       "  </tbody>\n",
       "</table>\n",
       "<p>299 rows × 3 columns</p>\n",
       "</div>"
      ],
      "text/plain": [
       "    fuel_type selling_type transmission\n",
       "0      Petrol       Dealer       Manual\n",
       "1      Diesel       Dealer       Manual\n",
       "2      Petrol       Dealer       Manual\n",
       "3      Petrol       Dealer       Manual\n",
       "4      Diesel       Dealer       Manual\n",
       "..        ...          ...          ...\n",
       "296    Diesel       Dealer       Manual\n",
       "297    Petrol       Dealer       Manual\n",
       "298    Petrol       Dealer       Manual\n",
       "299    Diesel       Dealer       Manual\n",
       "300    Petrol       Dealer       Manual\n",
       "\n",
       "[299 rows x 3 columns]"
      ]
     },
     "execution_count": 23,
     "metadata": {},
     "output_type": "execute_result"
    }
   ],
   "source": [
    "object_columns = df.select_dtypes(include=['object']).columns\n",
    "df[object_columns]"
   ]
  },
  {
   "cell_type": "code",
   "execution_count": 24,
   "metadata": {},
   "outputs": [
    {
     "name": "stdout",
     "output_type": "stream",
     "text": [
      "Unique values in 'fuel_type':\n",
      "['Petrol' 'Diesel' 'CNG']\n",
      "\n",
      "Unique values in 'selling_type':\n",
      "['Dealer' 'Individual']\n",
      "\n",
      "Unique values in 'transmission':\n",
      "['Manual' 'Automatic']\n",
      "\n"
     ]
    }
   ],
   "source": [
    "for column in object_columns:\n",
    "    unique_values = df[column].unique()\n",
    "    print(f\"Unique values in '{column}':\")\n",
    "    print(unique_values)\n",
    "    print()"
   ]
  },
  {
   "cell_type": "code",
   "execution_count": 27,
   "metadata": {},
   "outputs": [],
   "source": [
    "# features and labels\n",
    "X= df.drop('selling_price', axis=1)\n",
    "Y= df['selling_price']"
   ]
  },
  {
   "cell_type": "code",
   "execution_count": 28,
   "metadata": {},
   "outputs": [],
   "source": [
    "# train test split\n",
    "X_train, X_test, y_train, y_test= train_test_split(X, Y, test_size=0.2)"
   ]
  },
  {
   "cell_type": "code",
   "execution_count": 53,
   "metadata": {},
   "outputs": [
    {
     "name": "stdout",
     "output_type": "stream",
     "text": [
      "{0: 0, 1: 1, 2: 2}\n",
      "{0: 0, 1: 1}\n",
      "{0: 0, 1: 1}\n"
     ]
    },
    {
     "data": {
      "text/html": [
       "<div>\n",
       "<style scoped>\n",
       "    .dataframe tbody tr th:only-of-type {\n",
       "        vertical-align: middle;\n",
       "    }\n",
       "\n",
       "    .dataframe tbody tr th {\n",
       "        vertical-align: top;\n",
       "    }\n",
       "\n",
       "    .dataframe thead th {\n",
       "        text-align: right;\n",
       "    }\n",
       "</style>\n",
       "<table border=\"1\" class=\"dataframe\">\n",
       "  <thead>\n",
       "    <tr style=\"text-align: right;\">\n",
       "      <th></th>\n",
       "      <th>year</th>\n",
       "      <th>selling_price</th>\n",
       "      <th>present_price</th>\n",
       "      <th>driven_kms</th>\n",
       "      <th>fuel_type</th>\n",
       "      <th>selling_type</th>\n",
       "      <th>transmission</th>\n",
       "      <th>owner</th>\n",
       "    </tr>\n",
       "  </thead>\n",
       "  <tbody>\n",
       "    <tr>\n",
       "      <th>0</th>\n",
       "      <td>2014</td>\n",
       "      <td>3.35</td>\n",
       "      <td>5.59</td>\n",
       "      <td>27000</td>\n",
       "      <td>2</td>\n",
       "      <td>0</td>\n",
       "      <td>1</td>\n",
       "      <td>0</td>\n",
       "    </tr>\n",
       "    <tr>\n",
       "      <th>1</th>\n",
       "      <td>2013</td>\n",
       "      <td>4.75</td>\n",
       "      <td>9.54</td>\n",
       "      <td>43000</td>\n",
       "      <td>1</td>\n",
       "      <td>0</td>\n",
       "      <td>1</td>\n",
       "      <td>0</td>\n",
       "    </tr>\n",
       "    <tr>\n",
       "      <th>2</th>\n",
       "      <td>2017</td>\n",
       "      <td>7.25</td>\n",
       "      <td>9.85</td>\n",
       "      <td>6900</td>\n",
       "      <td>2</td>\n",
       "      <td>0</td>\n",
       "      <td>1</td>\n",
       "      <td>0</td>\n",
       "    </tr>\n",
       "    <tr>\n",
       "      <th>3</th>\n",
       "      <td>2011</td>\n",
       "      <td>2.85</td>\n",
       "      <td>4.15</td>\n",
       "      <td>5200</td>\n",
       "      <td>2</td>\n",
       "      <td>0</td>\n",
       "      <td>1</td>\n",
       "      <td>0</td>\n",
       "    </tr>\n",
       "    <tr>\n",
       "      <th>4</th>\n",
       "      <td>2014</td>\n",
       "      <td>4.60</td>\n",
       "      <td>6.87</td>\n",
       "      <td>42450</td>\n",
       "      <td>1</td>\n",
       "      <td>0</td>\n",
       "      <td>1</td>\n",
       "      <td>0</td>\n",
       "    </tr>\n",
       "  </tbody>\n",
       "</table>\n",
       "</div>"
      ],
      "text/plain": [
       "   year  selling_price  present_price  driven_kms  fuel_type  selling_type  \\\n",
       "0  2014           3.35           5.59       27000          2             0   \n",
       "1  2013           4.75           9.54       43000          1             0   \n",
       "2  2017           7.25           9.85        6900          2             0   \n",
       "3  2011           2.85           4.15        5200          2             0   \n",
       "4  2014           4.60           6.87       42450          1             0   \n",
       "\n",
       "   transmission  owner  \n",
       "0             1      0  \n",
       "1             1      0  \n",
       "2             1      0  \n",
       "3             1      0  \n",
       "4             1      0  "
      ]
     },
     "execution_count": 53,
     "metadata": {},
     "output_type": "execute_result"
    }
   ],
   "source": [
    "#hot encoding\n",
    "encoder=LabelEncoder()\n",
    "\n",
    "encoder.fit(df['fuel_type'])\n",
    "df['fuel_type']=encoder.fit_transform(df['fuel_type'])\n",
    "dictft=dict(enumerate(encoder.classes_))\n",
    "print(dictft)\n",
    "\n",
    "encoder.fit(df['selling_type'])\n",
    "df['selling_type']=encoder.fit_transform(df['selling_type'])\n",
    "dictst=dict(enumerate(encoder.classes_))\n",
    "print(dictst)\n",
    "\n",
    "encoder.fit(df['transmission'])\n",
    "df['transmission']=encoder.fit_transform(df['transmission'])\n",
    "dicttr=dict(enumerate(encoder.classes_))\n",
    "print(dicttr)\n",
    "\n",
    "\n",
    "df.head()"
   ]
  },
  {
   "cell_type": "code",
   "execution_count": 54,
   "metadata": {},
   "outputs": [],
   "source": [
    "# features and labels\n",
    "X= df.drop('selling_price', axis=1)\n",
    "Y= df['selling_price']"
   ]
  },
  {
   "cell_type": "code",
   "execution_count": 55,
   "metadata": {},
   "outputs": [
    {
     "data": {
      "text/html": [
       "<div>\n",
       "<style scoped>\n",
       "    .dataframe tbody tr th:only-of-type {\n",
       "        vertical-align: middle;\n",
       "    }\n",
       "\n",
       "    .dataframe tbody tr th {\n",
       "        vertical-align: top;\n",
       "    }\n",
       "\n",
       "    .dataframe thead th {\n",
       "        text-align: right;\n",
       "    }\n",
       "</style>\n",
       "<table border=\"1\" class=\"dataframe\">\n",
       "  <thead>\n",
       "    <tr style=\"text-align: right;\">\n",
       "      <th></th>\n",
       "      <th>year</th>\n",
       "      <th>present_price</th>\n",
       "      <th>driven_kms</th>\n",
       "      <th>fuel_type</th>\n",
       "      <th>selling_type</th>\n",
       "      <th>transmission</th>\n",
       "      <th>owner</th>\n",
       "    </tr>\n",
       "  </thead>\n",
       "  <tbody>\n",
       "    <tr>\n",
       "      <th>0</th>\n",
       "      <td>2014</td>\n",
       "      <td>5.59</td>\n",
       "      <td>27000</td>\n",
       "      <td>2</td>\n",
       "      <td>0</td>\n",
       "      <td>1</td>\n",
       "      <td>0</td>\n",
       "    </tr>\n",
       "    <tr>\n",
       "      <th>1</th>\n",
       "      <td>2013</td>\n",
       "      <td>9.54</td>\n",
       "      <td>43000</td>\n",
       "      <td>1</td>\n",
       "      <td>0</td>\n",
       "      <td>1</td>\n",
       "      <td>0</td>\n",
       "    </tr>\n",
       "    <tr>\n",
       "      <th>2</th>\n",
       "      <td>2017</td>\n",
       "      <td>9.85</td>\n",
       "      <td>6900</td>\n",
       "      <td>2</td>\n",
       "      <td>0</td>\n",
       "      <td>1</td>\n",
       "      <td>0</td>\n",
       "    </tr>\n",
       "    <tr>\n",
       "      <th>3</th>\n",
       "      <td>2011</td>\n",
       "      <td>4.15</td>\n",
       "      <td>5200</td>\n",
       "      <td>2</td>\n",
       "      <td>0</td>\n",
       "      <td>1</td>\n",
       "      <td>0</td>\n",
       "    </tr>\n",
       "    <tr>\n",
       "      <th>4</th>\n",
       "      <td>2014</td>\n",
       "      <td>6.87</td>\n",
       "      <td>42450</td>\n",
       "      <td>1</td>\n",
       "      <td>0</td>\n",
       "      <td>1</td>\n",
       "      <td>0</td>\n",
       "    </tr>\n",
       "  </tbody>\n",
       "</table>\n",
       "</div>"
      ],
      "text/plain": [
       "   year  present_price  driven_kms  fuel_type  selling_type  transmission  \\\n",
       "0  2014           5.59       27000          2             0             1   \n",
       "1  2013           9.54       43000          1             0             1   \n",
       "2  2017           9.85        6900          2             0             1   \n",
       "3  2011           4.15        5200          2             0             1   \n",
       "4  2014           6.87       42450          1             0             1   \n",
       "\n",
       "   owner  \n",
       "0      0  \n",
       "1      0  \n",
       "2      0  \n",
       "3      0  \n",
       "4      0  "
      ]
     },
     "execution_count": 55,
     "metadata": {},
     "output_type": "execute_result"
    }
   ],
   "source": [
    "X.head()"
   ]
  },
  {
   "cell_type": "code",
   "execution_count": 43,
   "metadata": {},
   "outputs": [],
   "source": [
    "# pipeline\n",
    "from sklearn.pipeline import Pipeline\n",
    "pipe= Pipeline([\n",
    "    ('model', model)\n",
    "])"
   ]
  },
  {
   "cell_type": "code",
   "execution_count": 60,
   "metadata": {},
   "outputs": [],
   "source": [
    "# train test split\n",
    "X_train, X_test, y_train, y_test= train_test_split(X, Y, test_size=0.2)\n",
    "from xgboost import XGBRegressor\n",
    "\n",
    "xgb_model = XGBRegressor(random_state=42)  "
   ]
  },
  {
   "cell_type": "code",
   "execution_count": 67,
   "metadata": {},
   "outputs": [],
   "source": [
    "rf_regressor = RandomForestRegressor(n_estimators=100, random_state=42)\n",
    "rf_regressor.fit(X_train,y_train)\n",
    "pred2=rf_regressor.predict(X_test)"
   ]
  },
  {
   "cell_type": "code",
   "execution_count": 68,
   "metadata": {},
   "outputs": [
    {
     "name": "stdout",
     "output_type": "stream",
     "text": [
      "Mean Absolute Error (MAE): 0.7253783333333332\n",
      "==============================================================================\n",
      "Mean Squared Error (MSE): 2.446838537166666\n",
      "==============================================================================\n",
      "R-squared (R2) Score: 0.905919464171571\n",
      "==============================================================================\n",
      "Mean Absolute Percentage Error (MAPE): 25.311050121443245\n"
     ]
    }
   ],
   "source": [
    "mae = mean_absolute_error(y_test,pred2)\n",
    "print(\"Mean Absolute Error (MAE):\", mae)\n",
    "print(\"==============================================================================\")\n",
    "mse = mean_squared_error(y_test,pred2)\n",
    "print(\"Mean Squared Error (MSE):\", mse)\n",
    "print(\"==============================================================================\")\n",
    "r2 = r2_score(y_test,pred2)\n",
    "print(\"R-squared (R2) Score:\", r2)\n",
    "print(\"==============================================================================\")\n",
    "def mean_absolute_percentage_error(y_true, y_pred): \n",
    "    y_true, y_pred = np.array(y_true), np.array(y_pred)\n",
    "    return np.mean(np.abs((y_true - y_pred) / y_true)) * 100\n",
    "\n",
    "mape = mean_absolute_percentage_error(y_test,pred2)\n",
    "print(\"Mean Absolute Percentage Error (MAPE):\", mape)"
   ]
  },
  {
   "cell_type": "code",
   "execution_count": 70,
   "metadata": {},
   "outputs": [],
   "source": [
    "from sklearn.tree import DecisionTreeRegressor\n",
    "dt_regressor = DecisionTreeRegressor(random_state=42,max_depth=5)\n",
    "dt_regressor.fit(X_train, y_train)\n",
    "pred3 = dt_regressor.predict(X_test)"
   ]
  },
  {
   "cell_type": "code",
   "execution_count": 71,
   "metadata": {},
   "outputs": [
    {
     "name": "stdout",
     "output_type": "stream",
     "text": [
      "Mean Absolute Error (MAE): 1.0034394716467463\n",
      "==============================================================================\n",
      "Mean Squared Error (MSE): 4.513883935494639\n",
      "==============================================================================\n",
      "R-squared (R2) Score: 0.826441911524566\n",
      "==============================================================================\n",
      "Mean Absolute Percentage Error (MAPE): 36.97866458517105\n"
     ]
    }
   ],
   "source": [
    "mae = mean_absolute_error(y_test,pred3)\n",
    "print(\"Mean Absolute Error (MAE):\", mae)\n",
    "print(\"==============================================================================\")\n",
    "mse = mean_squared_error(y_test,pred3)\n",
    "print(\"Mean Squared Error (MSE):\", mse)\n",
    "print(\"==============================================================================\")\n",
    "r2 = r2_score(y_test,pred3)\n",
    "print(\"R-squared (R2) Score:\", r2)\n",
    "print(\"==============================================================================\")\n",
    "def mean_absolute_percentage_error(y_true, y_pred): \n",
    "    y_true, y_pred = np.array(y_true), np.array(y_pred)\n",
    "    return np.mean(np.abs((y_true - y_pred) / y_true)) * 100\n",
    "\n",
    "mape = mean_absolute_percentage_error(y_test,pred3)\n",
    "print(\"Mean Absolute Percentage Error (MAPE):\", mape)"
   ]
  },
  {
   "cell_type": "code",
   "execution_count": 72,
   "metadata": {},
   "outputs": [],
   "source": [
    "gb_regressor = GradientBoostingRegressor(n_estimators=100, learning_rate=0.1, max_depth=5, random_state=42)\n",
    "gb_regressor.fit(X_train,y_train)\n",
    "pred1=gb_regressor.predict(X_test)"
   ]
  },
  {
   "cell_type": "code",
   "execution_count": 73,
   "metadata": {},
   "outputs": [
    {
     "name": "stdout",
     "output_type": "stream",
     "text": [
      "Mean Absolute Error (MAE): 0.7105268221924154\n",
      "==============================================================================\n",
      "Mean Squared Error (MSE): 2.5265079944664905\n",
      "==============================================================================\n",
      "R-squared (R2) Score: 0.9028561867553967\n",
      "==============================================================================\n",
      "Mean Absolute Percentage Error (MAPE): 24.997189861003914\n"
     ]
    }
   ],
   "source": [
    "mae = mean_absolute_error(y_test,pred1)\n",
    "print(\"Mean Absolute Error (MAE):\", mae)\n",
    "print(\"==============================================================================\")\n",
    "mse = mean_squared_error(y_test,pred1)\n",
    "print(\"Mean Squared Error (MSE):\", mse)\n",
    "print(\"==============================================================================\")\n",
    "r2 = r2_score(y_test,pred1)\n",
    "print(\"R-squared (R2) Score:\", r2)\n",
    "print(\"==============================================================================\")\n",
    "def mean_absolute_percentage_error(y_true, y_pred): \n",
    "    y_true, y_pred = np.array(y_true), np.array(y_pred)\n",
    "    return np.mean(np.abs((y_true - y_pred) / y_true)) * 100\n",
    "\n",
    "mape = mean_absolute_percentage_error(y_test,pred1)\n",
    "print(\"Mean Absolute Percentage Error (MAPE):\", mape)"
   ]
  }
 ],
 "metadata": {
  "kernelspec": {
   "display_name": "Python 3",
   "language": "python",
   "name": "python3"
  },
  "language_info": {
   "codemirror_mode": {
    "name": "ipython",
    "version": 3
   },
   "file_extension": ".py",
   "mimetype": "text/x-python",
   "name": "python",
   "nbconvert_exporter": "python",
   "pygments_lexer": "ipython3",
   "version": "3.12.7"
  }
 },
 "nbformat": 4,
 "nbformat_minor": 2
}
